{
  "nbformat": 4,
  "nbformat_minor": 0,
  "metadata": {
    "colab": {
      "name": "CNN-Exercise2.ipynb",
      "provenance": [],
      "collapsed_sections": []
    },
    "kernelspec": {
      "name": "python3",
      "display_name": "Python 3"
    },
    "language_info": {
      "name": "python"
    }
  },
  "cells": [
    {
      "cell_type": "code",
      "metadata": {
        "colab": {
          "base_uri": "https://localhost:8080/"
        },
        "id": "la7IqPWdbLRj",
        "outputId": "2b1898ab-e92c-433f-f03b-62c11f7cbb10"
      },
      "source": [
        "!git clone https://github.com/Baxi19/games_cover_dataset.git"
      ],
      "execution_count": 1,
      "outputs": [
        {
          "output_type": "stream",
          "text": [
            "Cloning into 'games_cover_dataset'...\n",
            "remote: Enumerating objects: 349, done.\u001b[K\n",
            "remote: Counting objects: 100% (349/349), done.\u001b[K\n",
            "remote: Compressing objects: 100% (344/344), done.\u001b[K\n",
            "remote: Total 349 (delta 3), reused 344 (delta 2), pack-reused 0\u001b[K\n",
            "Receiving objects: 100% (349/349), 3.30 MiB | 9.28 MiB/s, done.\n",
            "Resolving deltas: 100% (3/3), done.\n"
          ],
          "name": "stdout"
        }
      ]
    },
    {
      "cell_type": "code",
      "metadata": {
        "id": "8FpPwJCke8wC",
        "colab": {
          "base_uri": "https://localhost:8080/"
        },
        "outputId": "ae42af0d-6dbf-46d5-e562-e81481780d08"
      },
      "source": [
        "import sys\n",
        "import os\n",
        "from tensorflow.python.keras.preprocessing.image import ImageDataGenerator\n",
        "from tensorflow.python.keras import optimizers\n",
        "from tensorflow.python.keras.models import Sequential\n",
        "from tensorflow.python.keras.layers import Dropout, Flatten, Dense, Activation\n",
        "from tensorflow.python.keras.layers import Convolution2D, MaxPooling2D\n",
        "from tensorflow.python.keras import backend as K\n",
        "from tensorflow import keras\n",
        "\n",
        "\n",
        "K.clear_session()\n",
        "\n",
        "# Localizacion de las imagenes \n",
        "data_entrenamiento = '/content/games_cover_dataset/data/entrenamiento'\n",
        "data_validacion = '/content/games_cover_dataset/data/validacion'\n",
        "\n",
        "# Parameters\n",
        "epocas = 20\n",
        "longitud, altura = 150, 150\n",
        "batch_size = 32\n",
        "filtrosConv1 = 32\n",
        "filtrosConv2 = 64\n",
        "tamano_filtro1 = (3, 3)\n",
        "tamano_filtro2 = (2, 2)\n",
        "tamano_pool = (2, 2)\n",
        "#clases = 3\n",
        "clases = 2\n",
        "lr = 0.0004\n",
        "\n",
        "\n",
        "# Preparamos las imagenes de entrenamiento\n",
        "entrenamiento_datagen = ImageDataGenerator(\n",
        "    rescale=1. / 255,   #Rescalar\n",
        "    shear_range=0.2,    #inclina las images\n",
        "    zoom_range=0.2,     #Zoom a la imagenes\n",
        "    horizontal_flip=True)# Gira la imagen\n",
        "\n",
        "# Para validacion se le dan las imagenes como vienen sin alterarlas\n",
        "test_datagen = ImageDataGenerator(rescale=1. / 255)\n",
        "\n",
        "# Se encarga de ir al directorio abrir todas las carpetas y las procesa con la altura, longitud, batch size, etc\n",
        "entrenamiento_generador = entrenamiento_datagen.flow_from_directory(\n",
        "    data_entrenamiento,\n",
        "    target_size=(altura, longitud),\n",
        "    batch_size=batch_size,\n",
        "    class_mode='categorical')\n",
        "\n",
        "# Hace lo mismo que el anterior pero con la data de validacion\n",
        "validacion_generador = test_datagen.flow_from_directory(\n",
        "    data_validacion,\n",
        "    target_size=(altura, longitud),\n",
        "    batch_size=batch_size,\n",
        "    class_mode='categorical')\n",
        "\n",
        "# Creamos la red secuencial y sus capas\n",
        "cnn = Sequential() \n",
        "cnn.add(Convolution2D(filtrosConv1, tamano_filtro1, padding=\"same\",\n",
        "        input_shape=(longitud, altura, 3), activation='relu'))\n",
        "cnn.add(MaxPooling2D(pool_size=tamano_pool))\n",
        "\n",
        "cnn.add(Convolution2D(filtrosConv2, tamano_filtro2, padding=\"same\"))\n",
        "cnn.add(MaxPooling2D(pool_size=tamano_pool))\n",
        "\n",
        "cnn.add(Flatten())\n",
        "cnn.add(Dense(256, activation='relu'))\n",
        "cnn.add(Dropout(0.5))\n",
        "cnn.add(Dense(clases, activation='softmax'))\n",
        "\n",
        "opt = keras.optimizers.Adam(learning_rate=lr)\n",
        "\n",
        "cnn.compile(loss='categorical_crossentropy',\n",
        "            #optimizer=keras.optimizers.Adam(learning_rate=lr),\n",
        "            optimizer=opt,\n",
        "            metrics=['accuracy'])\n",
        "\n",
        "\n",
        "cnn.fit_generator(\n",
        "    entrenamiento_generador,\n",
        "    steps_per_epoch= len(entrenamiento_generador) ,\n",
        "    epochs=epocas,\n",
        "    validation_data=validacion_generador,\n",
        "    validation_steps=len(validacion_generador)\n",
        ")\n",
        "\n",
        "target_dir = './modelo/'\n",
        "if not os.path.exists(target_dir):\n",
        "    os.mkdir(target_dir)\n",
        "cnn.save('./modelo/modelo.h5')\n",
        "cnn.save_weights('./modelo/pesos.h5')\n"
      ],
      "execution_count": 2,
      "outputs": [
        {
          "output_type": "stream",
          "text": [
            "Found 240 images belonging to 2 classes.\n",
            "Found 70 images belonging to 2 classes.\n"
          ],
          "name": "stdout"
        },
        {
          "output_type": "stream",
          "text": [
            "/usr/local/lib/python3.7/dist-packages/tensorflow/python/keras/engine/training.py:1844: UserWarning: `Model.fit_generator` is deprecated and will be removed in a future version. Please use `Model.fit`, which supports generators.\n",
            "  warnings.warn('`Model.fit_generator` is deprecated and '\n"
          ],
          "name": "stderr"
        },
        {
          "output_type": "stream",
          "text": [
            "Epoch 1/20\n",
            "8/8 [==============================] - 9s 1s/step - loss: 1.0509 - accuracy: 0.5893 - val_loss: 0.4093 - val_accuracy: 0.5429\n",
            "Epoch 2/20\n",
            "8/8 [==============================] - 8s 931ms/step - loss: 0.3150 - accuracy: 0.8848 - val_loss: 0.0954 - val_accuracy: 1.0000\n",
            "Epoch 3/20\n",
            "8/8 [==============================] - 8s 943ms/step - loss: 0.0552 - accuracy: 1.0000 - val_loss: 0.0262 - val_accuracy: 1.0000\n",
            "Epoch 4/20\n",
            "8/8 [==============================] - 8s 927ms/step - loss: 0.0266 - accuracy: 1.0000 - val_loss: 0.0067 - val_accuracy: 1.0000\n",
            "Epoch 5/20\n",
            "8/8 [==============================] - 8s 941ms/step - loss: 0.0176 - accuracy: 0.9898 - val_loss: 0.0082 - val_accuracy: 1.0000\n",
            "Epoch 6/20\n",
            "8/8 [==============================] - 8s 930ms/step - loss: 0.0060 - accuracy: 1.0000 - val_loss: 0.0017 - val_accuracy: 1.0000\n",
            "Epoch 7/20\n",
            "8/8 [==============================] - 8s 930ms/step - loss: 0.0068 - accuracy: 1.0000 - val_loss: 0.0021 - val_accuracy: 1.0000\n",
            "Epoch 8/20\n",
            "8/8 [==============================] - 8s 929ms/step - loss: 0.0022 - accuracy: 1.0000 - val_loss: 0.0014 - val_accuracy: 1.0000\n",
            "Epoch 9/20\n",
            "8/8 [==============================] - 8s 929ms/step - loss: 9.1997e-04 - accuracy: 1.0000 - val_loss: 4.9350e-04 - val_accuracy: 1.0000\n",
            "Epoch 10/20\n",
            "8/8 [==============================] - 8s 933ms/step - loss: 7.8508e-04 - accuracy: 1.0000 - val_loss: 3.0986e-04 - val_accuracy: 1.0000\n",
            "Epoch 11/20\n",
            "8/8 [==============================] - 8s 927ms/step - loss: 0.0016 - accuracy: 1.0000 - val_loss: 0.0012 - val_accuracy: 1.0000\n",
            "Epoch 12/20\n",
            "8/8 [==============================] - 8s 928ms/step - loss: 7.4584e-04 - accuracy: 1.0000 - val_loss: 0.0011 - val_accuracy: 1.0000\n",
            "Epoch 13/20\n",
            "8/8 [==============================] - 8s 935ms/step - loss: 5.5387e-04 - accuracy: 1.0000 - val_loss: 3.1789e-04 - val_accuracy: 1.0000\n",
            "Epoch 14/20\n",
            "8/8 [==============================] - 8s 936ms/step - loss: 0.0043 - accuracy: 1.0000 - val_loss: 0.0046 - val_accuracy: 1.0000\n",
            "Epoch 15/20\n",
            "8/8 [==============================] - 8s 936ms/step - loss: 0.0016 - accuracy: 1.0000 - val_loss: 0.0010 - val_accuracy: 1.0000\n",
            "Epoch 16/20\n",
            "8/8 [==============================] - 8s 991ms/step - loss: 0.0013 - accuracy: 1.0000 - val_loss: 3.6148e-04 - val_accuracy: 1.0000\n",
            "Epoch 17/20\n",
            "8/8 [==============================] - 8s 946ms/step - loss: 0.0011 - accuracy: 1.0000 - val_loss: 4.1988e-04 - val_accuracy: 1.0000\n",
            "Epoch 18/20\n",
            "8/8 [==============================] - 8s 932ms/step - loss: 7.7236e-04 - accuracy: 1.0000 - val_loss: 0.0011 - val_accuracy: 1.0000\n",
            "Epoch 19/20\n",
            "8/8 [==============================] - 8s 933ms/step - loss: 0.0013 - accuracy: 1.0000 - val_loss: 3.0806e-04 - val_accuracy: 1.0000\n",
            "Epoch 20/20\n",
            "8/8 [==============================] - 8s 942ms/step - loss: 3.4780e-04 - accuracy: 1.0000 - val_loss: 8.8154e-05 - val_accuracy: 1.0000\n"
          ],
          "name": "stdout"
        }
      ]
    },
    {
      "cell_type": "code",
      "metadata": {
        "id": "WVNZ59yPfVur"
      },
      "source": [
        "import numpy as np\n",
        "from keras.preprocessing.image import load_img, img_to_array\n",
        "from keras.models import load_model\n",
        "\n",
        "longitud, altura = 150, 150\n",
        "modelo = '/content/modelo/modelo.h5'\n",
        "pesos_modelo = '/content/modelo/pesos.h5'\n",
        "cnn = load_model(modelo)\n",
        "cnn.load_weights(pesos_modelo)\n",
        "\n",
        "def predict(file):\n",
        "  x = load_img(file, target_size=(longitud, altura))\n",
        "  x = img_to_array(x)\n",
        "  x = np.expand_dims(x, axis=0)\n",
        "  array = cnn.predict(x)\n",
        "  result = array[0]\n",
        "  answer = np.argmax(result)\n",
        "  if answer == 0:\n",
        "    print(\"Resultado: Control\")\n",
        "  elif answer == 1:\n",
        "    print(\"Resultado: Phone\")\n",
        "  #elif answer == 2:\n",
        "  #  print(\"Resultado: Red Dead Redemption: II\")\n",
        "\n",
        "  return answer"
      ],
      "execution_count": 18,
      "outputs": []
    },
    {
      "cell_type": "code",
      "metadata": {
        "colab": {
          "base_uri": "https://localhost:8080/",
          "height": 241
        },
        "id": "LwK3vzBmEAQf",
        "outputId": "98f8fdca-4006-4bab-8f81-87e7e175660c"
      },
      "source": [
        "# Image to predict \n",
        "from IPython.display import Image\n",
        "Image('/content/games_cover_dataset/data/pruebas/control/0.jpg')"
      ],
      "execution_count": 19,
      "outputs": [
        {
          "output_type": "execute_result",
          "data": {
            "image/jpeg": "[encoded data removed]",
            "text/plain": [
              "<IPython.core.display.Image object>"
            ]
          },
          "metadata": {
            "tags": []
          },
          "execution_count": 19
        }
      ]
    },
    {
      "cell_type": "code",
      "metadata": {
        "colab": {
          "base_uri": "https://localhost:8080/"
        },
        "id": "86r8a2s-lJtm",
        "outputId": "c44083e7-ed54-4c13-e90f-a53cbfeffc7e"
      },
      "source": [
        "# Control \n",
        "predict('/content/games_cover_dataset/data/pruebas/control/0.jpg')"
      ],
      "execution_count": 20,
      "outputs": [
        {
          "output_type": "stream",
          "text": [
            "Resultado: Control\n"
          ],
          "name": "stdout"
        },
        {
          "output_type": "execute_result",
          "data": {
            "text/plain": [
              "0"
            ]
          },
          "metadata": {
            "tags": []
          },
          "execution_count": 20
        }
      ]
    },
    {
      "cell_type": "code",
      "metadata": {
        "colab": {
          "base_uri": "https://localhost:8080/",
          "height": 241
        },
        "id": "uZ5DnAxgEFSf",
        "outputId": "8d660666-b027-4c76-f742-5daf6352f38b"
      },
      "source": [
        "# Image to predict \n",
        "from IPython.display import Image\n",
        "Image('/content/games_cover_dataset/data/pruebas/phone/0.jpg')"
      ],
      "execution_count": 21,
      "outputs": [
        {
          "output_type": "execute_result",
          "data": {
            "image/jpeg": "[encoded data removed]",
            "text/plain": [
              "<IPython.core.display.Image object>"
            ]
          },
          "metadata": {
            "tags": []
          },
          "execution_count": 21
        }
      ]
    },
    {
      "cell_type": "code",
      "metadata": {
        "colab": {
          "base_uri": "https://localhost:8080/"
        },
        "id": "zLsYF_L7lUac",
        "outputId": "85c5573a-02b2-4fe2-9380-8f598c35bd4b"
      },
      "source": [
        "# Phone\n",
        "predict('/content/games_cover_dataset/data/pruebas/phone/0.jpg')"
      ],
      "execution_count": 22,
      "outputs": [
        {
          "output_type": "stream",
          "text": [
            "Resultado: Phone\n"
          ],
          "name": "stdout"
        },
        {
          "output_type": "execute_result",
          "data": {
            "text/plain": [
              "1"
            ]
          },
          "metadata": {
            "tags": []
          },
          "execution_count": 22
        }
      ]
    }
  ]
}